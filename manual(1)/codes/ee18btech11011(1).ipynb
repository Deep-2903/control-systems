{
  "nbformat": 4,
  "nbformat_minor": 0,
  "metadata": {
    "colab": {
      "name": "ee18btech11011(1).ipynb",
      "provenance": [],
      "collapsed_sections": []
    },
    "kernelspec": {
      "name": "python3",
      "display_name": "Python 3"
    }
  },
  "cells": [
    {
      "cell_type": "code",
      "metadata": {
        "id": "dq6iGzeSq-Ef",
        "colab_type": "code",
        "colab": {
          "base_uri": "https://localhost:8080/",
          "height": 366
        },
        "outputId": "fda3b08d-11b0-4bb0-ace3-a5aea9dec95b"
      },
      "source": [
        "import control\n",
        "import matplotlib.pyplot as plt\n",
        "import numpy\n",
        "\n",
        "\n",
        "\n",
        "num = [20,60]  #numerator of transfer function\n",
        "den = [1,5,4,0]  #denominator of transfer function\n",
        "\n",
        "#Creating a transfer function G = num/den\n",
        "G = control.tf(num,den) \n",
        "w = numpy.logspace(-3,3,5000)\n",
        "print(G)\n",
        "\n",
        "control.nyquist(G,w); # nyquist plot\n"
      ],
      "execution_count": 18,
      "outputs": [
        {
          "output_type": "stream",
          "text": [
            "\n",
            "    20 s + 60\n",
            "-----------------\n",
            "s^3 + 5 s^2 + 4 s\n",
            "\n"
          ],
          "name": "stdout"
        },
        {
          "output_type": "display_data",
          "data": {
            "image/png": "[encoded data removed]",
            "text/plain": [
              "<Figure size 432x288 with 1 Axes>"
            ]
          },
          "metadata": {
            "tags": [],
            "needs_background": "light"
          }
        }
      ]
    }
  ]
}