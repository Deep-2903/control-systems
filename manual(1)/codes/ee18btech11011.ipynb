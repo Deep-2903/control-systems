{
  "nbformat": 4,
  "nbformat_minor": 0,
  "metadata": {
    "colab": {
      "name": "Nyquist.ipynb",
      "provenance": [],
      "collapsed_sections": []
    },
    "kernelspec": {
      "name": "python3",
      "display_name": "Python 3"
    }
  },
  "cells": [
    {
      "cell_type": "code",
      "metadata": {
        "id": "0_trN8wdrz2f",
        "colab_type": "code",
        "colab": {
          "base_uri": "https://localhost:8080/",
          "height": 747
        },
        "outputId": "2336eebe-3691-482d-8147-c26e2974f3c1"
      },
      "source": [
        "import numpy as np\n",
        "from matplotlib import pyplot as plt\n",
        "from matplotlib import animation as an\n",
        "import control\n",
        "\n",
        "\n",
        "fig, ax = plt.subplots()\n",
        "realData, imagData = [], []\n",
        "line, = plt.plot([], [], 'rx', animated=True)\n",
        "G = control.TransferFunction((20,60),(1,5,4,0))\n",
        "real, imag, w = control.nyquist(G)\n",
        "print(real)\n",
        "print(imag)\n",
        "\n",
        "def init():\n",
        "    ax.set_xlim(-14, 0)\n",
        "    ax.set_ylim(-250, 250)\n",
        "    return line,\n",
        "\n",
        "def animate(i):\n",
        "    realData.append(real[i])\n",
        "    imagData.append(imag[i])\n",
        "    line.set_data(realData, imagData)\n",
        "    return line,\n",
        "\n",
        "anim = an.FuncAnimation(fig, animate, init_func=init,\n",
        "                               frames=range(len(real)), interval=2, blit=True)\n",
        "\n",
        "plt.title('Nyquist Diagram')\n",
        "plt.ylabel('Imaginary')\n",
        "plt.xlabel('Real')\n",
        "plt.grid(True)\n",
        "plt.show()"
      ],
      "execution_count": 23,
      "outputs": [
        {
          "output_type": "stream",
          "text": [
            "[-1.36177265e+01 -1.35752062e+01 -1.35192554e+01 -1.34458073e+01\n",
            " -1.33496915e+01 -1.32244259e+01 -1.30620384e+01 -1.28529765e+01\n",
            " -1.25862044e+01 -1.22496212e+01 -1.18309665e+01 -1.13193568e+01\n",
            " -1.07074858e+01 -9.99427417e+00 -9.18739241e+00 -8.30474287e+00\n",
            " -7.37395025e+00 -6.42939504e+00 -5.50727472e+00 -4.64010051e+00\n",
            " -3.85232681e+00 -3.15825744e+00 -2.56236553e+00 -2.06132623e+00\n",
            " -1.64675149e+00 -1.30777855e+00 -1.03303405e+00 -8.11847319e-01\n",
            " -6.34816861e-01 -4.93936550e-01 -3.82491098e-01 -2.94875224e-01\n",
            " -2.26419555e-01 -1.73249585e-01 -1.32174049e-01 -1.00591094e-01\n",
            " -7.64036804e-02 -5.79408766e-02 -4.38851747e-02 -3.32071457e-02\n",
            " -2.51085333e-02 -1.89741453e-02 -1.43321937e-02 -1.08222591e-02\n",
            " -8.16982547e-03 -6.16628849e-03 -4.65341089e-03 -3.51132395e-03\n",
            " -2.64931772e-03 -1.99880172e-03]\n",
            "[-1.48669458e+02 -1.28749614e+02 -1.11395921e+02 -9.62645225e+01\n",
            " -8.30565844e+01 -7.15126950e+01 -6.14081867e+01 -5.25493020e+01\n",
            " -4.47701356e+01 -3.79302451e+01 -3.19127550e+01 -2.66226584e+01\n",
            " -2.19848809e+01 -1.79415816e+01 -1.44482473e+01 -1.14685196e+01\n",
            " -8.96834930e+00 -6.91073499e+00 -5.25249641e+00 -3.94397044e+00\n",
            " -2.93141371e+00 -2.16091093e+00 -1.58227746e+00 -1.15184154e+00\n",
            " -8.33699792e-01 -5.99631432e-01 -4.28146786e-01 -3.03169192e-01\n",
            " -2.12726678e-01 -1.47862795e-01 -1.01828476e-01 -6.95207916e-02\n",
            " -4.70963366e-02 -3.16915920e-02 -2.12057759e-02 -1.41240428e-02\n",
            " -9.37240978e-03 -6.20105772e-03 -4.09335596e-03 -2.69722014e-03\n",
            " -1.77482018e-03 -1.16662964e-03 -7.66232934e-04 -5.02946109e-04\n",
            " -3.29973534e-04 -2.16412736e-04 -1.41895925e-04 -9.30183870e-05\n",
            " -6.09678639e-05 -3.99560683e-05]\n"
          ],
          "name": "stdout"
        },
        {
          "output_type": "display_data",
          "data": {
            "image/png": "[encoded data removed]",
            "text/plain": [
              "<Figure size 432x288 with 1 Axes>"
            ]
          },
          "metadata": {
            "tags": [],
            "needs_background": "light"
          }
        }
      ]
    }
  ]
}